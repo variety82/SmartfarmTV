{
 "cells": [
  {
   "cell_type": "markdown",
   "id": "f97b9b82",
   "metadata": {},
   "source": [
    "# Annotation filename list 저장"
   ]
  },
  {
   "cell_type": "code",
   "execution_count": null,
   "id": "870380e7",
   "metadata": {},
   "outputs": [],
   "source": [
    "import pandas as pd\n",
    "import json\n",
    "import os\n",
    "import cv2\n",
    "from PIL import ImageDraw\n",
    "from PIL import Image\n",
    "import csv \n",
    "\n",
    "json_file_path=\"/Users/somang/Desktop/mymac/boostcamp/final_proj/dataset/Training/label_normal/\"\n",
    "file_list = os.listdir(json_file_path)\n",
    "import pandas as pd\n",
    "df = pd.DataFrame(file_list)      \n",
    "df.transpose()\n",
    "df.to_csv(\"/Users/somang/Desktop/mymac/boostcamp/final_proj/dataset/Training/annotation_list.csv\", mode='w')"
   ]
  },
  {
   "cell_type": "markdown",
   "id": "1cf1fb85",
   "metadata": {},
   "source": [
    "# Convert to COCO Format"
   ]
  },
  {
   "cell_type": "code",
   "execution_count": null,
   "id": "876ee79a",
   "metadata": {},
   "outputs": [],
   "source": [
    "import pandas as pd\n",
    "import numpy as np\n",
    "import json\n",
    "\n",
    "root = {'info': {'year': 2021,\n",
    "  'version': '1.0',\n",
    "  'description': 'Crop Detection',\n",
    "  'contributor': 'aihub',\n",
    "  'url': None,\n",
    "  'date_created': None},\n",
    " 'licenses': [{'id': 0,\n",
    "   'name': None,\n",
    "   'url': None}],\n",
    " 'categories':[{'id': 0,\n",
    "   'name': 'Cabbage',\n",
    "   'supercategory': 'Cabbage'}],\n",
    "        'images':[],\n",
    "       'annotations':[]}\n",
    "image_list = pd.read_csv(\"/Users/somang/Desktop/mymac/boostcamp/final_proj/dataset/Training/annotation_filename.csv\")\n",
    "data_infos = []\n",
    "img_annos= []\n",
    "id=0\n",
    "for file_name in image_list['0']:\n",
    "    with open(\"/Users/somang/Desktop/mymac/boostcamp/final_proj/dataset/Training/label_normal/\"+file_name,'r') as j: #annotation 경로 추가\n",
    "        dic = json.loads(j.read())\n",
    "        date_captured = dic['description']['date']\n",
    "        width = dic['description']['width']\n",
    "        height = dic['description']['height']\n",
    "        img_name = dic['description']['image']\n",
    "        img_info = {'width': width,\n",
    "                       'height': height,\n",
    "                       'file_name': img_name,\n",
    "                       'license': 0,\n",
    "                       'flickr_url': None,\n",
    "                       'coco_url': None,\n",
    "                       'date_captured': date_captured,\n",
    "                       'id': id}\n",
    "        #print(dic)\n",
    "        points = dic['annotations']['points']\n",
    "        \n",
    "        bboxes = [points[0]['xtl'],points[0]['ytl'],width,height]\n",
    "        img_anno = {\n",
    "            'image_id':id,\n",
    "            'category_id':0,\n",
    "            'area':width*height,\n",
    "            'bbox':bboxes,\n",
    "            'iscrowd':0,\n",
    "            'id':id\n",
    "        }\n",
    "        id+=1\n",
    "        \n",
    "        data_infos.append(img_info)\n",
    "        img_annos.append(img_anno)\n",
    "root['images']=data_infos\n",
    "root['annotations']=img_annos\n",
    "\n",
    "#저장\n",
    "with open(\"/Users/somang/Desktop/mymac/boostcamp/final_proj/dataset/Training/normal_annotations.json\",'w') as f:\n",
    "    json.dump(root, f, ensure_ascii=False, indent=4)\n",
    "    \n",
    "print(\"finish\")"
   ]
  }
 ],
 "metadata": {
  "kernelspec": {
   "display_name": "Python 3",
   "language": "python",
   "name": "python3"
  },
  "language_info": {
   "codemirror_mode": {
    "name": "ipython",
    "version": 3
   },
   "file_extension": ".py",
   "mimetype": "text/x-python",
   "name": "python",
   "nbconvert_exporter": "python",
   "pygments_lexer": "ipython3",
   "version": "3.8.8"
  }
 },
 "nbformat": 4,
 "nbformat_minor": 5
}
